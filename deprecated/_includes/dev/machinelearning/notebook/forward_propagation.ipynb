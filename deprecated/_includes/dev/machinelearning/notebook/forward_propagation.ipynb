{
 "cells": [
  {
   "cell_type": "code",
   "execution_count": 7,
   "metadata": {},
   "outputs": [
    {
     "name": "stdout",
     "output_type": "stream",
     "text": [
      "[ 0.21152336  0.21655176]\n"
     ]
    }
   ],
   "source": [
    "import numpy as np\n",
    "\n",
    "def dot(layer, weight, bias):\n",
    "    return np.dot(layer,weight)+bias\n",
    "\n",
    "def sigmoid_activation(layer):\n",
    "    return 1/(1+np.exp(layer))\n",
    "\n",
    "#initialize weight\n",
    "weight = []\n",
    "weight.append(np.random.rand(3,5))\n",
    "weight.append(np.random.rand(5,2))\n",
    "\n",
    "#initialize bias\n",
    "bias = []\n",
    "bias.append(np.random.rand(5))\n",
    "bias.append(np.random.rand(2))\n",
    "\n",
    "#forward propagation\n",
    "input_layer = np.array([0,1,2])\n",
    "hidden_layer = sigmoid_activation(dot(input_layer,weight[0],bias[0]))\n",
    "output_layer = sigmoid_activation(dot(hidden_layer,weight[1],bias[1]))\n",
    "\n",
    "print(output_layer)"
   ]
  },
  {
   "cell_type": "code",
   "execution_count": null,
   "metadata": {
    "collapsed": true
   },
   "outputs": [],
   "source": []
  },
  {
   "cell_type": "code",
   "execution_count": null,
   "metadata": {
    "collapsed": true
   },
   "outputs": [],
   "source": []
  },
  {
   "cell_type": "code",
   "execution_count": null,
   "metadata": {
    "collapsed": true
   },
   "outputs": [],
   "source": []
  },
  {
   "cell_type": "code",
   "execution_count": null,
   "metadata": {
    "collapsed": true
   },
   "outputs": [],
   "source": []
  }
 ],
 "metadata": {
  "kernelspec": {
   "display_name": "Python 3",
   "language": "python",
   "name": "python3"
  },
  "language_info": {
   "codemirror_mode": {
    "name": "ipython",
    "version": 3
   },
   "file_extension": ".py",
   "mimetype": "text/x-python",
   "name": "python",
   "nbconvert_exporter": "python",
   "pygments_lexer": "ipython3",
   "version": "3.5.4"
  }
 },
 "nbformat": 4,
 "nbformat_minor": 2
}
